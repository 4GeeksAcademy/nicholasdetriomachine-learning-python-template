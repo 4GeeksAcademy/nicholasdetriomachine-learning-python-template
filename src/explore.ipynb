{
    "cells": [
        {
            "cell_type": "markdown",
            "metadata": {},
            "source": [
                "# Explore here"
            ]
        },
        {
            "cell_type": "code",
            "execution_count": 39,
            "metadata": {},
            "outputs": [],
            "source": [
                "# Your code here\n",
                "\n",
                "# NOTES\n",
                "# DATA_NAME['column_name'].value_counts() to get a count of each distinct value in a column from a data set\n",
                "# DATA_NAME.describe() - gives the count/mean/std/min/max of each integer column \n",
                "# DATA_Name.duplicated() - returns all rows which are duplicated\n",
                "# DATA_Name.duplicated().sum() - returns the sum of all rows which are duplicated\n",
                "# DATA_NAME.drop(\"column_name\", axis = 1).duplicated().sum() - remove duplicate columns\n",
                "# dropped_duplicates_data = DATA_NAME.drop_duplicates(subset='column_name') - to drop duplicates based on a single column\n",
                "# new_data_without_unncessary_columns = DATA_NAME.drop([\"column1\", \"column2\", \"columnA\", \"columnB\"])\n",
                "# Check for duplicates in 'col1' duplicates_col1 = df.duplicated(subset=['col1'], keep=False)\n",
                "# pd.factorize take whats in a columna and turn it into a number\n",
                "\n",
                "# datset url https://raw.githubusercontent.com/4GeeksAcademy/data-preprocessing-project-tutorial/main/AB_NYC_2019.csv"
            ]
        },
        {
            "cell_type": "code",
            "execution_count": 40,
            "metadata": {},
            "outputs": [],
            "source": [
                "import pandas as pd\n",
                "import matplotlib.pyplot as plt\n",
                "import seaborn as sns"
            ]
        },
        {
            "cell_type": "code",
            "execution_count": 41,
            "metadata": {},
            "outputs": [
                {
                    "data": {
                        "text/html": [
                            "<div>\n",
                            "<style scoped>\n",
                            "    .dataframe tbody tr th:only-of-type {\n",
                            "        vertical-align: middle;\n",
                            "    }\n",
                            "\n",
                            "    .dataframe tbody tr th {\n",
                            "        vertical-align: top;\n",
                            "    }\n",
                            "\n",
                            "    .dataframe thead th {\n",
                            "        text-align: right;\n",
                            "    }\n",
                            "</style>\n",
                            "<table border=\"1\" class=\"dataframe\">\n",
                            "  <thead>\n",
                            "    <tr style=\"text-align: right;\">\n",
                            "      <th></th>\n",
                            "      <th>id</th>\n",
                            "      <th>name</th>\n",
                            "      <th>host_id</th>\n",
                            "      <th>host_name</th>\n",
                            "      <th>neighbourhood_group</th>\n",
                            "      <th>neighbourhood</th>\n",
                            "      <th>latitude</th>\n",
                            "      <th>longitude</th>\n",
                            "      <th>room_type</th>\n",
                            "      <th>price</th>\n",
                            "      <th>minimum_nights</th>\n",
                            "      <th>number_of_reviews</th>\n",
                            "      <th>last_review</th>\n",
                            "      <th>reviews_per_month</th>\n",
                            "      <th>calculated_host_listings_count</th>\n",
                            "      <th>availability_365</th>\n",
                            "    </tr>\n",
                            "  </thead>\n",
                            "  <tbody>\n",
                            "    <tr>\n",
                            "      <th>0</th>\n",
                            "      <td>2539</td>\n",
                            "      <td>Clean &amp; quiet apt home by the park</td>\n",
                            "      <td>2787</td>\n",
                            "      <td>John</td>\n",
                            "      <td>Brooklyn</td>\n",
                            "      <td>Kensington</td>\n",
                            "      <td>40.64749</td>\n",
                            "      <td>-73.97237</td>\n",
                            "      <td>Private room</td>\n",
                            "      <td>149</td>\n",
                            "      <td>1</td>\n",
                            "      <td>9</td>\n",
                            "      <td>2018-10-19</td>\n",
                            "      <td>0.21</td>\n",
                            "      <td>6</td>\n",
                            "      <td>365</td>\n",
                            "    </tr>\n",
                            "    <tr>\n",
                            "      <th>1</th>\n",
                            "      <td>2595</td>\n",
                            "      <td>Skylit Midtown Castle</td>\n",
                            "      <td>2845</td>\n",
                            "      <td>Jennifer</td>\n",
                            "      <td>Manhattan</td>\n",
                            "      <td>Midtown</td>\n",
                            "      <td>40.75362</td>\n",
                            "      <td>-73.98377</td>\n",
                            "      <td>Entire home/apt</td>\n",
                            "      <td>225</td>\n",
                            "      <td>1</td>\n",
                            "      <td>45</td>\n",
                            "      <td>2019-05-21</td>\n",
                            "      <td>0.38</td>\n",
                            "      <td>2</td>\n",
                            "      <td>355</td>\n",
                            "    </tr>\n",
                            "    <tr>\n",
                            "      <th>2</th>\n",
                            "      <td>3647</td>\n",
                            "      <td>THE VILLAGE OF HARLEM....NEW YORK !</td>\n",
                            "      <td>4632</td>\n",
                            "      <td>Elisabeth</td>\n",
                            "      <td>Manhattan</td>\n",
                            "      <td>Harlem</td>\n",
                            "      <td>40.80902</td>\n",
                            "      <td>-73.94190</td>\n",
                            "      <td>Private room</td>\n",
                            "      <td>150</td>\n",
                            "      <td>3</td>\n",
                            "      <td>0</td>\n",
                            "      <td>NaN</td>\n",
                            "      <td>NaN</td>\n",
                            "      <td>1</td>\n",
                            "      <td>365</td>\n",
                            "    </tr>\n",
                            "    <tr>\n",
                            "      <th>3</th>\n",
                            "      <td>3831</td>\n",
                            "      <td>Cozy Entire Floor of Brownstone</td>\n",
                            "      <td>4869</td>\n",
                            "      <td>LisaRoxanne</td>\n",
                            "      <td>Brooklyn</td>\n",
                            "      <td>Clinton Hill</td>\n",
                            "      <td>40.68514</td>\n",
                            "      <td>-73.95976</td>\n",
                            "      <td>Entire home/apt</td>\n",
                            "      <td>89</td>\n",
                            "      <td>1</td>\n",
                            "      <td>270</td>\n",
                            "      <td>2019-07-05</td>\n",
                            "      <td>4.64</td>\n",
                            "      <td>1</td>\n",
                            "      <td>194</td>\n",
                            "    </tr>\n",
                            "    <tr>\n",
                            "      <th>4</th>\n",
                            "      <td>5022</td>\n",
                            "      <td>Entire Apt: Spacious Studio/Loft by central park</td>\n",
                            "      <td>7192</td>\n",
                            "      <td>Laura</td>\n",
                            "      <td>Manhattan</td>\n",
                            "      <td>East Harlem</td>\n",
                            "      <td>40.79851</td>\n",
                            "      <td>-73.94399</td>\n",
                            "      <td>Entire home/apt</td>\n",
                            "      <td>80</td>\n",
                            "      <td>10</td>\n",
                            "      <td>9</td>\n",
                            "      <td>2018-11-19</td>\n",
                            "      <td>0.10</td>\n",
                            "      <td>1</td>\n",
                            "      <td>0</td>\n",
                            "    </tr>\n",
                            "  </tbody>\n",
                            "</table>\n",
                            "</div>"
                        ],
                        "text/plain": [
                            "     id                                              name  host_id  \\\n",
                            "0  2539                Clean & quiet apt home by the park     2787   \n",
                            "1  2595                             Skylit Midtown Castle     2845   \n",
                            "2  3647               THE VILLAGE OF HARLEM....NEW YORK !     4632   \n",
                            "3  3831                   Cozy Entire Floor of Brownstone     4869   \n",
                            "4  5022  Entire Apt: Spacious Studio/Loft by central park     7192   \n",
                            "\n",
                            "     host_name neighbourhood_group neighbourhood  latitude  longitude  \\\n",
                            "0         John            Brooklyn    Kensington  40.64749  -73.97237   \n",
                            "1     Jennifer           Manhattan       Midtown  40.75362  -73.98377   \n",
                            "2    Elisabeth           Manhattan        Harlem  40.80902  -73.94190   \n",
                            "3  LisaRoxanne            Brooklyn  Clinton Hill  40.68514  -73.95976   \n",
                            "4        Laura           Manhattan   East Harlem  40.79851  -73.94399   \n",
                            "\n",
                            "         room_type  price  minimum_nights  number_of_reviews last_review  \\\n",
                            "0     Private room    149               1                  9  2018-10-19   \n",
                            "1  Entire home/apt    225               1                 45  2019-05-21   \n",
                            "2     Private room    150               3                  0         NaN   \n",
                            "3  Entire home/apt     89               1                270  2019-07-05   \n",
                            "4  Entire home/apt     80              10                  9  2018-11-19   \n",
                            "\n",
                            "   reviews_per_month  calculated_host_listings_count  availability_365  \n",
                            "0               0.21                               6               365  \n",
                            "1               0.38                               2               355  \n",
                            "2                NaN                               1               365  \n",
                            "3               4.64                               1               194  \n",
                            "4               0.10                               1                 0  "
                        ]
                    },
                    "execution_count": 41,
                    "metadata": {},
                    "output_type": "execute_result"
                }
            ],
            "source": [
                "train_data = pd.read_csv(\"https://raw.githubusercontent.com/4GeeksAcademy/data-preprocessing-project-tutorial/main/AB_NYC_2019.csv\")\n",
                "test_data = pd.read_csv(\"https://raw.githubusercontent.com/4GeeksAcademy/data-preprocessing-project-tutorial/main/AB_NYC_2019.csv\")\n",
                "test_survived_data = pd.read_csv(\"https://raw.githubusercontent.com/4GeeksAcademy/data-preprocessing-project-tutorial/main/AB_NYC_2019.csv\")\n",
                "# total_data[\"neigbourhood\"] = test_survived_data[\"neighbourhood\"]\n",
                "\n",
                "###\n",
                "\n",
                "# total_data = pd.concat([train_data, test_data]).reset_index(inplace = False)\n",
                "total_data = train_data\n",
                "# total_data.drop(columns = [\"index\"], inplace = True)\n",
                "total_data.head()"
            ]
        },
        {
            "cell_type": "code",
            "execution_count": 42,
            "metadata": {},
            "outputs": [
                {
                    "data": {
                        "text/plain": [
                            "(48895, 16)"
                        ]
                    },
                    "execution_count": 42,
                    "metadata": {},
                    "output_type": "execute_result"
                }
            ],
            "source": [
                "\n",
                "# Obtain dimensions of dataframe\n",
                "# (# rows, # coluns)\n",
                "total_data.shape"
            ]
        },
        {
            "cell_type": "code",
            "execution_count": 43,
            "metadata": {},
            "outputs": [
                {
                    "data": {
                        "text/plain": [
                            "Index(['id', 'name', 'host_id', 'host_name', 'neighbourhood_group',\n",
                            "       'neighbourhood', 'latitude', 'longitude', 'room_type', 'price',\n",
                            "       'minimum_nights', 'number_of_reviews', 'last_review',\n",
                            "       'reviews_per_month', 'calculated_host_listings_count',\n",
                            "       'availability_365'],\n",
                            "      dtype='object')"
                        ]
                    },
                    "execution_count": 43,
                    "metadata": {},
                    "output_type": "execute_result"
                }
            ],
            "source": [
                "total_data.columns\n"
            ]
        },
        {
            "cell_type": "code",
            "execution_count": 44,
            "metadata": {},
            "outputs": [
                {
                    "data": {
                        "text/plain": [
                            "id                                                              2539\n",
                            "name                              Clean & quiet apt home by the park\n",
                            "host_id                                                         2787\n",
                            "host_name                                                       John\n",
                            "neighbourhood_group                                         Brooklyn\n",
                            "neighbourhood                                             Kensington\n",
                            "latitude                                                    40.64749\n",
                            "longitude                                                  -73.97237\n",
                            "room_type                                               Private room\n",
                            "price                                                            149\n",
                            "minimum_nights                                                     1\n",
                            "number_of_reviews                                                  9\n",
                            "last_review                                               2018-10-19\n",
                            "reviews_per_month                                               0.21\n",
                            "calculated_host_listings_count                                     6\n",
                            "availability_365                                                 365\n",
                            "Name: 0, dtype: object"
                        ]
                    },
                    "execution_count": 44,
                    "metadata": {},
                    "output_type": "execute_result"
                }
            ],
            "source": [
                "total_data.iloc[0]"
            ]
        },
        {
            "cell_type": "code",
            "execution_count": 45,
            "metadata": {},
            "outputs": [
                {
                    "name": "stdout",
                    "output_type": "stream",
                    "text": [
                        "<class 'pandas.core.frame.DataFrame'>\n",
                        "RangeIndex: 48895 entries, 0 to 48894\n",
                        "Data columns (total 16 columns):\n",
                        " #   Column                          Non-Null Count  Dtype  \n",
                        "---  ------                          --------------  -----  \n",
                        " 0   id                              48895 non-null  int64  \n",
                        " 1   name                            48879 non-null  object \n",
                        " 2   host_id                         48895 non-null  int64  \n",
                        " 3   host_name                       48874 non-null  object \n",
                        " 4   neighbourhood_group             48895 non-null  object \n",
                        " 5   neighbourhood                   48895 non-null  object \n",
                        " 6   latitude                        48895 non-null  float64\n",
                        " 7   longitude                       48895 non-null  float64\n",
                        " 8   room_type                       48895 non-null  object \n",
                        " 9   price                           48895 non-null  int64  \n",
                        " 10  minimum_nights                  48895 non-null  int64  \n",
                        " 11  number_of_reviews               48895 non-null  int64  \n",
                        " 12  last_review                     38843 non-null  object \n",
                        " 13  reviews_per_month               38843 non-null  float64\n",
                        " 14  calculated_host_listings_count  48895 non-null  int64  \n",
                        " 15  availability_365                48895 non-null  int64  \n",
                        "dtypes: float64(3), int64(7), object(6)\n",
                        "memory usage: 6.0+ MB\n"
                    ]
                }
            ],
            "source": [
                "total_data.info()"
            ]
        },
        {
            "cell_type": "code",
            "execution_count": 46,
            "metadata": {},
            "outputs": [
                {
                    "data": {
                        "text/plain": [
                            "id                                    0\n",
                            "name                                 16\n",
                            "host_id                               0\n",
                            "host_name                            21\n",
                            "neighbourhood_group                   0\n",
                            "neighbourhood                         0\n",
                            "latitude                              0\n",
                            "longitude                             0\n",
                            "room_type                             0\n",
                            "price                                 0\n",
                            "minimum_nights                        0\n",
                            "number_of_reviews                     0\n",
                            "last_review                       10052\n",
                            "reviews_per_month                 10052\n",
                            "calculated_host_listings_count        0\n",
                            "availability_365                      0\n",
                            "dtype: int64"
                        ]
                    },
                    "execution_count": 46,
                    "metadata": {},
                    "output_type": "execute_result"
                }
            ],
            "source": [
                "total_data.isnull().sum(axis=0)"
            ]
        },
        {
            "cell_type": "markdown",
            "metadata": {},
            "source": [
                "There are a total of 48895 rows and 16 rows. \n",
                "\n",
                "The data has 10 numerical (int65 or float64) characteristics and 6 categorical (object) characteristics.\n",
                "\n",
                "The variable \"host_name\" and \"name\" have a small amount (16 and 21) of null (empty) values. The variable \"last_review\" and \"reviews_per_month\" have a large amount (10,052) of null (empty) values."
            ]
        },
        {
            "cell_type": "code",
            "execution_count": 47,
            "metadata": {},
            "outputs": [
                {
                    "data": {
                        "text/plain": [
                            "neighbourhood\n",
                            "Williamsburg          0.080172\n",
                            "Bedford-Stuyvesant    0.075959\n",
                            "Harlem                0.054361\n",
                            "Bushwick              0.050414\n",
                            "Upper West Side       0.040311\n",
                            "                        ...   \n",
                            "Fort Wadsworth        0.000020\n",
                            "Richmondtown          0.000020\n",
                            "New Dorp              0.000020\n",
                            "Rossville             0.000020\n",
                            "Willowbrook           0.000020\n",
                            "Name: proportion, Length: 221, dtype: float64"
                        ]
                    },
                    "execution_count": 47,
                    "metadata": {},
                    "output_type": "execute_result"
                }
            ],
            "source": [
                "\n",
                "total_data['neighbourhood'].value_counts(normalize=True)"
            ]
        },
        {
            "cell_type": "code",
            "execution_count": 48,
            "metadata": {},
            "outputs": [
                {
                    "data": {
                        "text/plain": [
                            "room_type\n",
                            "Entire home/apt    0.519665\n",
                            "Private room       0.456611\n",
                            "Shared room        0.023724\n",
                            "Name: proportion, dtype: float64"
                        ]
                    },
                    "execution_count": 48,
                    "metadata": {},
                    "output_type": "execute_result"
                }
            ],
            "source": [
                "total_data['room_type'].value_counts(normalize=True)"
            ]
        },
        {
            "cell_type": "code",
            "execution_count": 49,
            "metadata": {},
            "outputs": [
                {
                    "data": {
                        "text/plain": [
                            "minimum_nights\n",
                            "1      0.260149\n",
                            "2      0.239206\n",
                            "3      0.163595\n",
                            "30     0.076899\n",
                            "4      0.067553\n",
                            "         ...   \n",
                            "186    0.000020\n",
                            "366    0.000020\n",
                            "68     0.000020\n",
                            "87     0.000020\n",
                            "36     0.000020\n",
                            "Name: proportion, Length: 109, dtype: float64"
                        ]
                    },
                    "execution_count": 49,
                    "metadata": {},
                    "output_type": "execute_result"
                }
            ],
            "source": [
                "total_data['minimum_nights'].value_counts(normalize=True)"
            ]
        },
        {
            "cell_type": "code",
            "execution_count": 50,
            "metadata": {},
            "outputs": [
                {
                    "data": {
                        "text/html": [
                            "<div>\n",
                            "<style scoped>\n",
                            "    .dataframe tbody tr th:only-of-type {\n",
                            "        vertical-align: middle;\n",
                            "    }\n",
                            "\n",
                            "    .dataframe tbody tr th {\n",
                            "        vertical-align: top;\n",
                            "    }\n",
                            "\n",
                            "    .dataframe thead th {\n",
                            "        text-align: right;\n",
                            "    }\n",
                            "</style>\n",
                            "<table border=\"1\" class=\"dataframe\">\n",
                            "  <thead>\n",
                            "    <tr style=\"text-align: right;\">\n",
                            "      <th></th>\n",
                            "      <th>id</th>\n",
                            "      <th>host_id</th>\n",
                            "      <th>latitude</th>\n",
                            "      <th>longitude</th>\n",
                            "      <th>price</th>\n",
                            "      <th>minimum_nights</th>\n",
                            "      <th>number_of_reviews</th>\n",
                            "      <th>reviews_per_month</th>\n",
                            "      <th>calculated_host_listings_count</th>\n",
                            "      <th>availability_365</th>\n",
                            "    </tr>\n",
                            "  </thead>\n",
                            "  <tbody>\n",
                            "    <tr>\n",
                            "      <th>count</th>\n",
                            "      <td>4.889500e+04</td>\n",
                            "      <td>4.889500e+04</td>\n",
                            "      <td>48895.000000</td>\n",
                            "      <td>48895.000000</td>\n",
                            "      <td>48895.000000</td>\n",
                            "      <td>48895.000000</td>\n",
                            "      <td>48895.000000</td>\n",
                            "      <td>38843.000000</td>\n",
                            "      <td>48895.000000</td>\n",
                            "      <td>48895.000000</td>\n",
                            "    </tr>\n",
                            "    <tr>\n",
                            "      <th>mean</th>\n",
                            "      <td>1.901714e+07</td>\n",
                            "      <td>6.762001e+07</td>\n",
                            "      <td>40.728949</td>\n",
                            "      <td>-73.952170</td>\n",
                            "      <td>152.720687</td>\n",
                            "      <td>7.029962</td>\n",
                            "      <td>23.274466</td>\n",
                            "      <td>1.373221</td>\n",
                            "      <td>7.143982</td>\n",
                            "      <td>112.781327</td>\n",
                            "    </tr>\n",
                            "    <tr>\n",
                            "      <th>std</th>\n",
                            "      <td>1.098311e+07</td>\n",
                            "      <td>7.861097e+07</td>\n",
                            "      <td>0.054530</td>\n",
                            "      <td>0.046157</td>\n",
                            "      <td>240.154170</td>\n",
                            "      <td>20.510550</td>\n",
                            "      <td>44.550582</td>\n",
                            "      <td>1.680442</td>\n",
                            "      <td>32.952519</td>\n",
                            "      <td>131.622289</td>\n",
                            "    </tr>\n",
                            "    <tr>\n",
                            "      <th>min</th>\n",
                            "      <td>2.539000e+03</td>\n",
                            "      <td>2.438000e+03</td>\n",
                            "      <td>40.499790</td>\n",
                            "      <td>-74.244420</td>\n",
                            "      <td>0.000000</td>\n",
                            "      <td>1.000000</td>\n",
                            "      <td>0.000000</td>\n",
                            "      <td>0.010000</td>\n",
                            "      <td>1.000000</td>\n",
                            "      <td>0.000000</td>\n",
                            "    </tr>\n",
                            "    <tr>\n",
                            "      <th>25%</th>\n",
                            "      <td>9.471945e+06</td>\n",
                            "      <td>7.822033e+06</td>\n",
                            "      <td>40.690100</td>\n",
                            "      <td>-73.983070</td>\n",
                            "      <td>69.000000</td>\n",
                            "      <td>1.000000</td>\n",
                            "      <td>1.000000</td>\n",
                            "      <td>0.190000</td>\n",
                            "      <td>1.000000</td>\n",
                            "      <td>0.000000</td>\n",
                            "    </tr>\n",
                            "    <tr>\n",
                            "      <th>50%</th>\n",
                            "      <td>1.967728e+07</td>\n",
                            "      <td>3.079382e+07</td>\n",
                            "      <td>40.723070</td>\n",
                            "      <td>-73.955680</td>\n",
                            "      <td>106.000000</td>\n",
                            "      <td>3.000000</td>\n",
                            "      <td>5.000000</td>\n",
                            "      <td>0.720000</td>\n",
                            "      <td>1.000000</td>\n",
                            "      <td>45.000000</td>\n",
                            "    </tr>\n",
                            "    <tr>\n",
                            "      <th>75%</th>\n",
                            "      <td>2.915218e+07</td>\n",
                            "      <td>1.074344e+08</td>\n",
                            "      <td>40.763115</td>\n",
                            "      <td>-73.936275</td>\n",
                            "      <td>175.000000</td>\n",
                            "      <td>5.000000</td>\n",
                            "      <td>24.000000</td>\n",
                            "      <td>2.020000</td>\n",
                            "      <td>2.000000</td>\n",
                            "      <td>227.000000</td>\n",
                            "    </tr>\n",
                            "    <tr>\n",
                            "      <th>max</th>\n",
                            "      <td>3.648724e+07</td>\n",
                            "      <td>2.743213e+08</td>\n",
                            "      <td>40.913060</td>\n",
                            "      <td>-73.712990</td>\n",
                            "      <td>10000.000000</td>\n",
                            "      <td>1250.000000</td>\n",
                            "      <td>629.000000</td>\n",
                            "      <td>58.500000</td>\n",
                            "      <td>327.000000</td>\n",
                            "      <td>365.000000</td>\n",
                            "    </tr>\n",
                            "  </tbody>\n",
                            "</table>\n",
                            "</div>"
                        ],
                        "text/plain": [
                            "                 id       host_id      latitude     longitude         price  \\\n",
                            "count  4.889500e+04  4.889500e+04  48895.000000  48895.000000  48895.000000   \n",
                            "mean   1.901714e+07  6.762001e+07     40.728949    -73.952170    152.720687   \n",
                            "std    1.098311e+07  7.861097e+07      0.054530      0.046157    240.154170   \n",
                            "min    2.539000e+03  2.438000e+03     40.499790    -74.244420      0.000000   \n",
                            "25%    9.471945e+06  7.822033e+06     40.690100    -73.983070     69.000000   \n",
                            "50%    1.967728e+07  3.079382e+07     40.723070    -73.955680    106.000000   \n",
                            "75%    2.915218e+07  1.074344e+08     40.763115    -73.936275    175.000000   \n",
                            "max    3.648724e+07  2.743213e+08     40.913060    -73.712990  10000.000000   \n",
                            "\n",
                            "       minimum_nights  number_of_reviews  reviews_per_month  \\\n",
                            "count    48895.000000       48895.000000       38843.000000   \n",
                            "mean         7.029962          23.274466           1.373221   \n",
                            "std         20.510550          44.550582           1.680442   \n",
                            "min          1.000000           0.000000           0.010000   \n",
                            "25%          1.000000           1.000000           0.190000   \n",
                            "50%          3.000000           5.000000           0.720000   \n",
                            "75%          5.000000          24.000000           2.020000   \n",
                            "max       1250.000000         629.000000          58.500000   \n",
                            "\n",
                            "       calculated_host_listings_count  availability_365  \n",
                            "count                    48895.000000      48895.000000  \n",
                            "mean                         7.143982        112.781327  \n",
                            "std                         32.952519        131.622289  \n",
                            "min                          1.000000          0.000000  \n",
                            "25%                          1.000000          0.000000  \n",
                            "50%                          1.000000         45.000000  \n",
                            "75%                          2.000000        227.000000  \n",
                            "max                        327.000000        365.000000  "
                        ]
                    },
                    "execution_count": 50,
                    "metadata": {},
                    "output_type": "execute_result"
                }
            ],
            "source": [
                "total_data.describe()"
            ]
        },
        {
            "cell_type": "code",
            "execution_count": 51,
            "metadata": {},
            "outputs": [
                {
                    "data": {
                        "text/plain": [
                            "0        False\n",
                            "1        False\n",
                            "2        False\n",
                            "3        False\n",
                            "4        False\n",
                            "         ...  \n",
                            "48890    False\n",
                            "48891    False\n",
                            "48892    False\n",
                            "48893    False\n",
                            "48894    False\n",
                            "Length: 48895, dtype: bool"
                        ]
                    },
                    "execution_count": 51,
                    "metadata": {},
                    "output_type": "execute_result"
                }
            ],
            "source": [
                "\n",
                "total_data.duplicated()#.sum()"
            ]
        },
        {
            "cell_type": "code",
            "execution_count": 52,
            "metadata": {},
            "outputs": [
                {
                    "data": {
                        "text/plain": [
                            "0"
                        ]
                    },
                    "execution_count": 52,
                    "metadata": {},
                    "output_type": "execute_result"
                }
            ],
            "source": [
                "\n",
                "total_data.duplicated().sum()"
            ]
        },
        {
            "cell_type": "code",
            "execution_count": 53,
            "metadata": {},
            "outputs": [
                {
                    "data": {
                        "text/html": [
                            "<div>\n",
                            "<style scoped>\n",
                            "    .dataframe tbody tr th:only-of-type {\n",
                            "        vertical-align: middle;\n",
                            "    }\n",
                            "\n",
                            "    .dataframe tbody tr th {\n",
                            "        vertical-align: top;\n",
                            "    }\n",
                            "\n",
                            "    .dataframe thead th {\n",
                            "        text-align: right;\n",
                            "    }\n",
                            "</style>\n",
                            "<table border=\"1\" class=\"dataframe\">\n",
                            "  <thead>\n",
                            "    <tr style=\"text-align: right;\">\n",
                            "      <th></th>\n",
                            "      <th>id</th>\n",
                            "      <th>name</th>\n",
                            "      <th>host_name</th>\n",
                            "      <th>neighbourhood_group</th>\n",
                            "      <th>neighbourhood</th>\n",
                            "      <th>latitude</th>\n",
                            "      <th>longitude</th>\n",
                            "      <th>room_type</th>\n",
                            "      <th>price</th>\n",
                            "      <th>minimum_nights</th>\n",
                            "      <th>number_of_reviews</th>\n",
                            "      <th>last_review</th>\n",
                            "      <th>reviews_per_month</th>\n",
                            "      <th>calculated_host_listings_count</th>\n",
                            "      <th>availability_365</th>\n",
                            "    </tr>\n",
                            "  </thead>\n",
                            "  <tbody>\n",
                            "    <tr>\n",
                            "      <th>0</th>\n",
                            "      <td>2539</td>\n",
                            "      <td>Clean &amp; quiet apt home by the park</td>\n",
                            "      <td>John</td>\n",
                            "      <td>Brooklyn</td>\n",
                            "      <td>Kensington</td>\n",
                            "      <td>40.64749</td>\n",
                            "      <td>-73.97237</td>\n",
                            "      <td>Private room</td>\n",
                            "      <td>149</td>\n",
                            "      <td>1</td>\n",
                            "      <td>9</td>\n",
                            "      <td>2018-10-19</td>\n",
                            "      <td>0.21</td>\n",
                            "      <td>6</td>\n",
                            "      <td>365</td>\n",
                            "    </tr>\n",
                            "    <tr>\n",
                            "      <th>1</th>\n",
                            "      <td>2595</td>\n",
                            "      <td>Skylit Midtown Castle</td>\n",
                            "      <td>Jennifer</td>\n",
                            "      <td>Manhattan</td>\n",
                            "      <td>Midtown</td>\n",
                            "      <td>40.75362</td>\n",
                            "      <td>-73.98377</td>\n",
                            "      <td>Entire home/apt</td>\n",
                            "      <td>225</td>\n",
                            "      <td>1</td>\n",
                            "      <td>45</td>\n",
                            "      <td>2019-05-21</td>\n",
                            "      <td>0.38</td>\n",
                            "      <td>2</td>\n",
                            "      <td>355</td>\n",
                            "    </tr>\n",
                            "    <tr>\n",
                            "      <th>2</th>\n",
                            "      <td>3647</td>\n",
                            "      <td>THE VILLAGE OF HARLEM....NEW YORK !</td>\n",
                            "      <td>Elisabeth</td>\n",
                            "      <td>Manhattan</td>\n",
                            "      <td>Harlem</td>\n",
                            "      <td>40.80902</td>\n",
                            "      <td>-73.94190</td>\n",
                            "      <td>Private room</td>\n",
                            "      <td>150</td>\n",
                            "      <td>3</td>\n",
                            "      <td>0</td>\n",
                            "      <td>NaN</td>\n",
                            "      <td>NaN</td>\n",
                            "      <td>1</td>\n",
                            "      <td>365</td>\n",
                            "    </tr>\n",
                            "    <tr>\n",
                            "      <th>3</th>\n",
                            "      <td>3831</td>\n",
                            "      <td>Cozy Entire Floor of Brownstone</td>\n",
                            "      <td>LisaRoxanne</td>\n",
                            "      <td>Brooklyn</td>\n",
                            "      <td>Clinton Hill</td>\n",
                            "      <td>40.68514</td>\n",
                            "      <td>-73.95976</td>\n",
                            "      <td>Entire home/apt</td>\n",
                            "      <td>89</td>\n",
                            "      <td>1</td>\n",
                            "      <td>270</td>\n",
                            "      <td>2019-07-05</td>\n",
                            "      <td>4.64</td>\n",
                            "      <td>1</td>\n",
                            "      <td>194</td>\n",
                            "    </tr>\n",
                            "    <tr>\n",
                            "      <th>4</th>\n",
                            "      <td>5022</td>\n",
                            "      <td>Entire Apt: Spacious Studio/Loft by central park</td>\n",
                            "      <td>Laura</td>\n",
                            "      <td>Manhattan</td>\n",
                            "      <td>East Harlem</td>\n",
                            "      <td>40.79851</td>\n",
                            "      <td>-73.94399</td>\n",
                            "      <td>Entire home/apt</td>\n",
                            "      <td>80</td>\n",
                            "      <td>10</td>\n",
                            "      <td>9</td>\n",
                            "      <td>2018-11-19</td>\n",
                            "      <td>0.10</td>\n",
                            "      <td>1</td>\n",
                            "      <td>0</td>\n",
                            "    </tr>\n",
                            "    <tr>\n",
                            "      <th>...</th>\n",
                            "      <td>...</td>\n",
                            "      <td>...</td>\n",
                            "      <td>...</td>\n",
                            "      <td>...</td>\n",
                            "      <td>...</td>\n",
                            "      <td>...</td>\n",
                            "      <td>...</td>\n",
                            "      <td>...</td>\n",
                            "      <td>...</td>\n",
                            "      <td>...</td>\n",
                            "      <td>...</td>\n",
                            "      <td>...</td>\n",
                            "      <td>...</td>\n",
                            "      <td>...</td>\n",
                            "      <td>...</td>\n",
                            "    </tr>\n",
                            "    <tr>\n",
                            "      <th>48890</th>\n",
                            "      <td>36484665</td>\n",
                            "      <td>Charming one bedroom - newly renovated rowhouse</td>\n",
                            "      <td>Sabrina</td>\n",
                            "      <td>Brooklyn</td>\n",
                            "      <td>Bedford-Stuyvesant</td>\n",
                            "      <td>40.67853</td>\n",
                            "      <td>-73.94995</td>\n",
                            "      <td>Private room</td>\n",
                            "      <td>70</td>\n",
                            "      <td>2</td>\n",
                            "      <td>0</td>\n",
                            "      <td>NaN</td>\n",
                            "      <td>NaN</td>\n",
                            "      <td>2</td>\n",
                            "      <td>9</td>\n",
                            "    </tr>\n",
                            "    <tr>\n",
                            "      <th>48891</th>\n",
                            "      <td>36485057</td>\n",
                            "      <td>Affordable room in Bushwick/East Williamsburg</td>\n",
                            "      <td>Marisol</td>\n",
                            "      <td>Brooklyn</td>\n",
                            "      <td>Bushwick</td>\n",
                            "      <td>40.70184</td>\n",
                            "      <td>-73.93317</td>\n",
                            "      <td>Private room</td>\n",
                            "      <td>40</td>\n",
                            "      <td>4</td>\n",
                            "      <td>0</td>\n",
                            "      <td>NaN</td>\n",
                            "      <td>NaN</td>\n",
                            "      <td>2</td>\n",
                            "      <td>36</td>\n",
                            "    </tr>\n",
                            "    <tr>\n",
                            "      <th>48892</th>\n",
                            "      <td>36485431</td>\n",
                            "      <td>Sunny Studio at Historical Neighborhood</td>\n",
                            "      <td>Ilgar &amp; Aysel</td>\n",
                            "      <td>Manhattan</td>\n",
                            "      <td>Harlem</td>\n",
                            "      <td>40.81475</td>\n",
                            "      <td>-73.94867</td>\n",
                            "      <td>Entire home/apt</td>\n",
                            "      <td>115</td>\n",
                            "      <td>10</td>\n",
                            "      <td>0</td>\n",
                            "      <td>NaN</td>\n",
                            "      <td>NaN</td>\n",
                            "      <td>1</td>\n",
                            "      <td>27</td>\n",
                            "    </tr>\n",
                            "    <tr>\n",
                            "      <th>48893</th>\n",
                            "      <td>36485609</td>\n",
                            "      <td>43rd St. Time Square-cozy single bed</td>\n",
                            "      <td>Taz</td>\n",
                            "      <td>Manhattan</td>\n",
                            "      <td>Hell's Kitchen</td>\n",
                            "      <td>40.75751</td>\n",
                            "      <td>-73.99112</td>\n",
                            "      <td>Shared room</td>\n",
                            "      <td>55</td>\n",
                            "      <td>1</td>\n",
                            "      <td>0</td>\n",
                            "      <td>NaN</td>\n",
                            "      <td>NaN</td>\n",
                            "      <td>6</td>\n",
                            "      <td>2</td>\n",
                            "    </tr>\n",
                            "    <tr>\n",
                            "      <th>48894</th>\n",
                            "      <td>36487245</td>\n",
                            "      <td>Trendy duplex in the very heart of Hell's Kitchen</td>\n",
                            "      <td>Christophe</td>\n",
                            "      <td>Manhattan</td>\n",
                            "      <td>Hell's Kitchen</td>\n",
                            "      <td>40.76404</td>\n",
                            "      <td>-73.98933</td>\n",
                            "      <td>Private room</td>\n",
                            "      <td>90</td>\n",
                            "      <td>7</td>\n",
                            "      <td>0</td>\n",
                            "      <td>NaN</td>\n",
                            "      <td>NaN</td>\n",
                            "      <td>1</td>\n",
                            "      <td>23</td>\n",
                            "    </tr>\n",
                            "  </tbody>\n",
                            "</table>\n",
                            "<p>48895 rows × 15 columns</p>\n",
                            "</div>"
                        ],
                        "text/plain": [
                            "             id                                               name  \\\n",
                            "0          2539                 Clean & quiet apt home by the park   \n",
                            "1          2595                              Skylit Midtown Castle   \n",
                            "2          3647                THE VILLAGE OF HARLEM....NEW YORK !   \n",
                            "3          3831                    Cozy Entire Floor of Brownstone   \n",
                            "4          5022   Entire Apt: Spacious Studio/Loft by central park   \n",
                            "...         ...                                                ...   \n",
                            "48890  36484665    Charming one bedroom - newly renovated rowhouse   \n",
                            "48891  36485057      Affordable room in Bushwick/East Williamsburg   \n",
                            "48892  36485431            Sunny Studio at Historical Neighborhood   \n",
                            "48893  36485609               43rd St. Time Square-cozy single bed   \n",
                            "48894  36487245  Trendy duplex in the very heart of Hell's Kitchen   \n",
                            "\n",
                            "           host_name neighbourhood_group       neighbourhood  latitude  \\\n",
                            "0               John            Brooklyn          Kensington  40.64749   \n",
                            "1           Jennifer           Manhattan             Midtown  40.75362   \n",
                            "2          Elisabeth           Manhattan              Harlem  40.80902   \n",
                            "3        LisaRoxanne            Brooklyn        Clinton Hill  40.68514   \n",
                            "4              Laura           Manhattan         East Harlem  40.79851   \n",
                            "...              ...                 ...                 ...       ...   \n",
                            "48890        Sabrina            Brooklyn  Bedford-Stuyvesant  40.67853   \n",
                            "48891        Marisol            Brooklyn            Bushwick  40.70184   \n",
                            "48892  Ilgar & Aysel           Manhattan              Harlem  40.81475   \n",
                            "48893            Taz           Manhattan      Hell's Kitchen  40.75751   \n",
                            "48894     Christophe           Manhattan      Hell's Kitchen  40.76404   \n",
                            "\n",
                            "       longitude        room_type  price  minimum_nights  number_of_reviews  \\\n",
                            "0      -73.97237     Private room    149               1                  9   \n",
                            "1      -73.98377  Entire home/apt    225               1                 45   \n",
                            "2      -73.94190     Private room    150               3                  0   \n",
                            "3      -73.95976  Entire home/apt     89               1                270   \n",
                            "4      -73.94399  Entire home/apt     80              10                  9   \n",
                            "...          ...              ...    ...             ...                ...   \n",
                            "48890  -73.94995     Private room     70               2                  0   \n",
                            "48891  -73.93317     Private room     40               4                  0   \n",
                            "48892  -73.94867  Entire home/apt    115              10                  0   \n",
                            "48893  -73.99112      Shared room     55               1                  0   \n",
                            "48894  -73.98933     Private room     90               7                  0   \n",
                            "\n",
                            "      last_review  reviews_per_month  calculated_host_listings_count  \\\n",
                            "0      2018-10-19               0.21                               6   \n",
                            "1      2019-05-21               0.38                               2   \n",
                            "2             NaN                NaN                               1   \n",
                            "3      2019-07-05               4.64                               1   \n",
                            "4      2018-11-19               0.10                               1   \n",
                            "...           ...                ...                             ...   \n",
                            "48890         NaN                NaN                               2   \n",
                            "48891         NaN                NaN                               2   \n",
                            "48892         NaN                NaN                               1   \n",
                            "48893         NaN                NaN                               6   \n",
                            "48894         NaN                NaN                               1   \n",
                            "\n",
                            "       availability_365  \n",
                            "0                   365  \n",
                            "1                   355  \n",
                            "2                   365  \n",
                            "3                   194  \n",
                            "4                     0  \n",
                            "...                 ...  \n",
                            "48890                 9  \n",
                            "48891                36  \n",
                            "48892                27  \n",
                            "48893                 2  \n",
                            "48894                23  \n",
                            "\n",
                            "[48895 rows x 15 columns]"
                        ]
                    },
                    "execution_count": 53,
                    "metadata": {},
                    "output_type": "execute_result"
                }
            ],
            "source": [
                "total_data.drop(\"host_id\", axis = 1)#.duplicated().sum()"
            ]
        },
        {
            "cell_type": "code",
            "execution_count": 54,
            "metadata": {},
            "outputs": [
                {
                    "data": {
                        "text/plain": [
                            "37442"
                        ]
                    },
                    "execution_count": 54,
                    "metadata": {},
                    "output_type": "execute_result"
                }
            ],
            "source": [
                "\n",
                "total_data['host_name'].duplicated().sum() \n",
                "\n",
                "#just checking, not really relevant"
            ]
        },
        {
            "cell_type": "code",
            "execution_count": 55,
            "metadata": {},
            "outputs": [
                {
                    "data": {
                        "text/plain": [
                            "3"
                        ]
                    },
                    "execution_count": 55,
                    "metadata": {},
                    "output_type": "execute_result"
                }
            ],
            "source": [
                "\n",
                "total_data['room_type'].nunique()"
            ]
        },
        {
            "cell_type": "code",
            "execution_count": 56,
            "metadata": {},
            "outputs": [
                {
                    "data": {
                        "text/plain": [
                            "5"
                        ]
                    },
                    "execution_count": 56,
                    "metadata": {},
                    "output_type": "execute_result"
                }
            ],
            "source": [
                "\n",
                "total_data['neighbourhood_group'].nunique()"
            ]
        },
        {
            "cell_type": "code",
            "execution_count": 57,
            "metadata": {},
            "outputs": [
                {
                    "data": {
                        "text/plain": [
                            "221"
                        ]
                    },
                    "execution_count": 57,
                    "metadata": {},
                    "output_type": "execute_result"
                }
            ],
            "source": [
                "total_data['neighbourhood'].nunique()"
            ]
        },
        {
            "cell_type": "code",
            "execution_count": 58,
            "metadata": {},
            "outputs": [
                {
                    "data": {
                        "text/plain": [
                            "neighbourhood_group\n",
                            "Manhattan        21661\n",
                            "Brooklyn         20104\n",
                            "Queens            5666\n",
                            "Bronx             1091\n",
                            "Staten Island      373\n",
                            "Name: count, dtype: int64"
                        ]
                    },
                    "execution_count": 58,
                    "metadata": {},
                    "output_type": "execute_result"
                }
            ],
            "source": [
                "total_data['neighbourhood_group'].value_counts()"
            ]
        },
        {
            "cell_type": "code",
            "execution_count": 59,
            "metadata": {},
            "outputs": [
                {
                    "data": {
                        "text/plain": [
                            "neighbourhood\n",
                            "Williamsburg          3920\n",
                            "Bedford-Stuyvesant    3714\n",
                            "Harlem                2658\n",
                            "Bushwick              2465\n",
                            "Upper West Side       1971\n",
                            "                      ... \n",
                            "Fort Wadsworth           1\n",
                            "Richmondtown             1\n",
                            "New Dorp                 1\n",
                            "Rossville                1\n",
                            "Willowbrook              1\n",
                            "Name: count, Length: 221, dtype: int64"
                        ]
                    },
                    "execution_count": 59,
                    "metadata": {},
                    "output_type": "execute_result"
                }
            ],
            "source": [
                "total_data['neighbourhood'].value_counts()"
            ]
        },
        {
            "cell_type": "code",
            "execution_count": 84,
            "metadata": {},
            "outputs": [
                {
                    "data": {
                        "text/html": [
                            "<div>\n",
                            "<style scoped>\n",
                            "    .dataframe tbody tr th:only-of-type {\n",
                            "        vertical-align: middle;\n",
                            "    }\n",
                            "\n",
                            "    .dataframe tbody tr th {\n",
                            "        vertical-align: top;\n",
                            "    }\n",
                            "\n",
                            "    .dataframe thead th {\n",
                            "        text-align: right;\n",
                            "    }\n",
                            "</style>\n",
                            "<table border=\"1\" class=\"dataframe\">\n",
                            "  <thead>\n",
                            "    <tr style=\"text-align: right;\">\n",
                            "      <th></th>\n",
                            "      <th>neighbourhood_group</th>\n",
                            "      <th>neighbourhood</th>\n",
                            "      <th>room_type</th>\n",
                            "      <th>price</th>\n",
                            "      <th>minimum_nights</th>\n",
                            "      <th>number_of_reviews</th>\n",
                            "      <th>reviews_per_month</th>\n",
                            "      <th>calculated_host_listings_count</th>\n",
                            "      <th>availability_365</th>\n",
                            "      <th>room_type_int</th>\n",
                            "      <th>room_type_n</th>\n",
                            "    </tr>\n",
                            "  </thead>\n",
                            "  <tbody>\n",
                            "    <tr>\n",
                            "      <th>0</th>\n",
                            "      <td>Brooklyn</td>\n",
                            "      <td>Kensington</td>\n",
                            "      <td>Private room</td>\n",
                            "      <td>149</td>\n",
                            "      <td>1</td>\n",
                            "      <td>9</td>\n",
                            "      <td>0.21</td>\n",
                            "      <td>6</td>\n",
                            "      <td>365</td>\n",
                            "      <td>1</td>\n",
                            "      <td>0</td>\n",
                            "    </tr>\n",
                            "    <tr>\n",
                            "      <th>1</th>\n",
                            "      <td>Manhattan</td>\n",
                            "      <td>Midtown</td>\n",
                            "      <td>Entire home/apt</td>\n",
                            "      <td>225</td>\n",
                            "      <td>1</td>\n",
                            "      <td>45</td>\n",
                            "      <td>0.38</td>\n",
                            "      <td>2</td>\n",
                            "      <td>355</td>\n",
                            "      <td>0</td>\n",
                            "      <td>1</td>\n",
                            "    </tr>\n",
                            "    <tr>\n",
                            "      <th>2</th>\n",
                            "      <td>Manhattan</td>\n",
                            "      <td>Harlem</td>\n",
                            "      <td>Private room</td>\n",
                            "      <td>150</td>\n",
                            "      <td>3</td>\n",
                            "      <td>0</td>\n",
                            "      <td>NaN</td>\n",
                            "      <td>1</td>\n",
                            "      <td>365</td>\n",
                            "      <td>1</td>\n",
                            "      <td>0</td>\n",
                            "    </tr>\n",
                            "    <tr>\n",
                            "      <th>3</th>\n",
                            "      <td>Brooklyn</td>\n",
                            "      <td>Clinton Hill</td>\n",
                            "      <td>Entire home/apt</td>\n",
                            "      <td>89</td>\n",
                            "      <td>1</td>\n",
                            "      <td>270</td>\n",
                            "      <td>4.64</td>\n",
                            "      <td>1</td>\n",
                            "      <td>194</td>\n",
                            "      <td>0</td>\n",
                            "      <td>1</td>\n",
                            "    </tr>\n",
                            "    <tr>\n",
                            "      <th>4</th>\n",
                            "      <td>Manhattan</td>\n",
                            "      <td>East Harlem</td>\n",
                            "      <td>Entire home/apt</td>\n",
                            "      <td>80</td>\n",
                            "      <td>10</td>\n",
                            "      <td>9</td>\n",
                            "      <td>0.10</td>\n",
                            "      <td>1</td>\n",
                            "      <td>0</td>\n",
                            "      <td>0</td>\n",
                            "      <td>1</td>\n",
                            "    </tr>\n",
                            "    <tr>\n",
                            "      <th>...</th>\n",
                            "      <td>...</td>\n",
                            "      <td>...</td>\n",
                            "      <td>...</td>\n",
                            "      <td>...</td>\n",
                            "      <td>...</td>\n",
                            "      <td>...</td>\n",
                            "      <td>...</td>\n",
                            "      <td>...</td>\n",
                            "      <td>...</td>\n",
                            "      <td>...</td>\n",
                            "      <td>...</td>\n",
                            "    </tr>\n",
                            "    <tr>\n",
                            "      <th>48890</th>\n",
                            "      <td>Brooklyn</td>\n",
                            "      <td>Bedford-Stuyvesant</td>\n",
                            "      <td>Private room</td>\n",
                            "      <td>70</td>\n",
                            "      <td>2</td>\n",
                            "      <td>0</td>\n",
                            "      <td>NaN</td>\n",
                            "      <td>2</td>\n",
                            "      <td>9</td>\n",
                            "      <td>1</td>\n",
                            "      <td>0</td>\n",
                            "    </tr>\n",
                            "    <tr>\n",
                            "      <th>48891</th>\n",
                            "      <td>Brooklyn</td>\n",
                            "      <td>Bushwick</td>\n",
                            "      <td>Private room</td>\n",
                            "      <td>40</td>\n",
                            "      <td>4</td>\n",
                            "      <td>0</td>\n",
                            "      <td>NaN</td>\n",
                            "      <td>2</td>\n",
                            "      <td>36</td>\n",
                            "      <td>1</td>\n",
                            "      <td>0</td>\n",
                            "    </tr>\n",
                            "    <tr>\n",
                            "      <th>48892</th>\n",
                            "      <td>Manhattan</td>\n",
                            "      <td>Harlem</td>\n",
                            "      <td>Entire home/apt</td>\n",
                            "      <td>115</td>\n",
                            "      <td>10</td>\n",
                            "      <td>0</td>\n",
                            "      <td>NaN</td>\n",
                            "      <td>1</td>\n",
                            "      <td>27</td>\n",
                            "      <td>0</td>\n",
                            "      <td>1</td>\n",
                            "    </tr>\n",
                            "    <tr>\n",
                            "      <th>48893</th>\n",
                            "      <td>Manhattan</td>\n",
                            "      <td>Hell's Kitchen</td>\n",
                            "      <td>Shared room</td>\n",
                            "      <td>55</td>\n",
                            "      <td>1</td>\n",
                            "      <td>0</td>\n",
                            "      <td>NaN</td>\n",
                            "      <td>6</td>\n",
                            "      <td>2</td>\n",
                            "      <td>2</td>\n",
                            "      <td>2</td>\n",
                            "    </tr>\n",
                            "    <tr>\n",
                            "      <th>48894</th>\n",
                            "      <td>Manhattan</td>\n",
                            "      <td>Hell's Kitchen</td>\n",
                            "      <td>Private room</td>\n",
                            "      <td>90</td>\n",
                            "      <td>7</td>\n",
                            "      <td>0</td>\n",
                            "      <td>NaN</td>\n",
                            "      <td>1</td>\n",
                            "      <td>23</td>\n",
                            "      <td>1</td>\n",
                            "      <td>0</td>\n",
                            "    </tr>\n",
                            "  </tbody>\n",
                            "</table>\n",
                            "<p>48895 rows × 11 columns</p>\n",
                            "</div>"
                        ],
                        "text/plain": [
                            "      neighbourhood_group       neighbourhood        room_type  price  \\\n",
                            "0                Brooklyn          Kensington     Private room    149   \n",
                            "1               Manhattan             Midtown  Entire home/apt    225   \n",
                            "2               Manhattan              Harlem     Private room    150   \n",
                            "3                Brooklyn        Clinton Hill  Entire home/apt     89   \n",
                            "4               Manhattan         East Harlem  Entire home/apt     80   \n",
                            "...                   ...                 ...              ...    ...   \n",
                            "48890            Brooklyn  Bedford-Stuyvesant     Private room     70   \n",
                            "48891            Brooklyn            Bushwick     Private room     40   \n",
                            "48892           Manhattan              Harlem  Entire home/apt    115   \n",
                            "48893           Manhattan      Hell's Kitchen      Shared room     55   \n",
                            "48894           Manhattan      Hell's Kitchen     Private room     90   \n",
                            "\n",
                            "       minimum_nights  number_of_reviews  reviews_per_month  \\\n",
                            "0                   1                  9               0.21   \n",
                            "1                   1                 45               0.38   \n",
                            "2                   3                  0                NaN   \n",
                            "3                   1                270               4.64   \n",
                            "4                  10                  9               0.10   \n",
                            "...               ...                ...                ...   \n",
                            "48890               2                  0                NaN   \n",
                            "48891               4                  0                NaN   \n",
                            "48892              10                  0                NaN   \n",
                            "48893               1                  0                NaN   \n",
                            "48894               7                  0                NaN   \n",
                            "\n",
                            "       calculated_host_listings_count  availability_365  room_type_int  \\\n",
                            "0                                   6               365              1   \n",
                            "1                                   2               355              0   \n",
                            "2                                   1               365              1   \n",
                            "3                                   1               194              0   \n",
                            "4                                   1                 0              0   \n",
                            "...                               ...               ...            ...   \n",
                            "48890                               2                 9              1   \n",
                            "48891                               2                36              1   \n",
                            "48892                               1                27              0   \n",
                            "48893                               6                 2              2   \n",
                            "48894                               1                23              1   \n",
                            "\n",
                            "       room_type_n  \n",
                            "0                0  \n",
                            "1                1  \n",
                            "2                0  \n",
                            "3                1  \n",
                            "4                1  \n",
                            "...            ...  \n",
                            "48890            0  \n",
                            "48891            0  \n",
                            "48892            1  \n",
                            "48893            2  \n",
                            "48894            0  \n",
                            "\n",
                            "[48895 rows x 11 columns]"
                        ]
                    },
                    "execution_count": 84,
                    "metadata": {},
                    "output_type": "execute_result"
                }
            ],
            "source": [
                "total_data = total_data.drop([\"id\",\"host_name\", \"name\", \"longitude\", \"latitude\", \"host_id\", \"last_review\"], axis=1, errors='ignore')\n",
                "# total_data = total_data.drop([\"id\",\"longitude\", \"latitude\"], axis=1)\n",
                "# total_data = total_data.drop([\"id\",\"host_name\" \"name\", \"longitude\", \"latitude\"], axis=1)\n",
                "#total_data = total_data.drop([\"host_id\"], axis=1)\n",
                "total_data"
            ]
        },
        {
            "cell_type": "code",
            "execution_count": 61,
            "metadata": {},
            "outputs": [
                {
                    "data": {
                        "image/png": "[encoded data removed]",
                        "text/plain": [
                            "<Figure size 1000x700 with 4 Axes>"
                        ]
                    },
                    "metadata": {},
                    "output_type": "display_data"
                }
            ],
            "source": [
                "categorical_features = ['neighbourhood_group', 'room_type', 'minimum_nights', 'number_of_reviews', 'availability_365', 'neighbourhood']\n",
                "\n",
                "fig, axis = plt.subplots(2, 2, figsize = (10, 7))\n",
                "\n",
                "# Creating a multiple figure with histograms and box plots\n",
                "sns.histplot(ax = axis[0, 0], data = total_data, x = \"neighbourhood_group\")\n",
                "sns.histplot(ax = axis[1, 0], data = total_data, x = \"room_type\")\n",
                "sns.histplot(ax = axis[0, 1], data = total_data, x = \"availability_365\")\n",
                "sns.histplot(ax = axis[1, 1], data = total_data, x = \"number_of_reviews\")\n",
                "\n",
                "# Adjust the layout\n",
                "plt.tight_layout()\n",
                "\n",
                "# Show the plot\n",
                "plt.show()"
            ]
        },
        {
            "cell_type": "code",
            "execution_count": 62,
            "metadata": {},
            "outputs": [
                {
                    "data": {
                        "image/png": "[encoded data removed]",
                        "text/plain": [
                            "<Figure size 1000x1000 with 8 Axes>"
                        ]
                    },
                    "metadata": {},
                    "output_type": "display_data"
                }
            ],
            "source": [
                "numerical_features = ['price', 'minimum_nights', 'number_of_reviews', 'reviews_per_month']\n",
                "\n",
                "fig, axis = plt.subplots(4, 2, figsize = (10, 10), gridspec_kw={'height_ratios': [6, 1, 6, 1]})\n",
                "\n",
                "# Creating a multiple figure with histograms and box plots\n",
                "sns.histplot(ax = axis[0, 0], data = total_data, x = \"price\").set(xlabel = None)\n",
                "sns.boxplot(ax = axis[1, 0], data = total_data, x = \"price\")\n",
                "sns.histplot(ax = axis[0, 1], data = total_data, x = \"number_of_reviews\").set(xlabel = None, ylabel = None)\n",
                "sns.boxplot(ax = axis[1, 1], data = total_data, x = \"number_of_reviews\")\n",
                "\n",
                "sns.histplot(ax = axis[2, 0], data = total_data, x = \"minimum_nights\").set(xlabel = None, ylabel = None)\n",
                "sns.boxplot(ax = axis[3, 0], data = total_data, x = \"minimum_nights\")\n",
                "sns.histplot(ax = axis[2, 1], data = total_data, x = \"reviews_per_month\").set(xlabel = None, ylabel = None)\n",
                "sns.boxplot(ax = axis[3, 1], data = total_data, x = \"reviews_per_month\")\n",
                "\n",
                "# Adjust the layout\n",
                "plt.tight_layout()\n",
                "\n",
                "# Show the plot\n",
                "plt.show()"
            ]
        },
        {
            "cell_type": "code",
            "execution_count": 63,
            "metadata": {},
            "outputs": [
                {
                    "name": "stdout",
                    "output_type": "stream",
                    "text": [
                        "id                                                            7003697\n",
                        "name                              Furnished room in Astoria apartment\n",
                        "host_name                                                    Kathrine\n",
                        "neighbourhood_group                                            Queens\n",
                        "neighbourhood                                                 Astoria\n",
                        "latitude                                                      40.7681\n",
                        "longitude                                                   -73.91651\n",
                        "room_type                                                Private room\n",
                        "price                                                           10000\n",
                        "minimum_nights                                                    100\n",
                        "number_of_reviews                                                   2\n",
                        "last_review                                                2016-02-13\n",
                        "reviews_per_month                                                0.04\n",
                        "calculated_host_listings_count                                      1\n",
                        "availability_365                                                    0\n",
                        "Name: 9151, dtype: object\n"
                    ]
                }
            ],
            "source": [
                "#Curious about the price outlier max and its location. Brought up questions about is the price per night or per month or per minimum_stay amount\n",
                "\n",
                "max_price_index = total_data['price'].idxmax()\n",
                "row_with_max_price = total_data.loc[max_price_index]\n",
                "print(row_with_max_price)"
            ]
        },
        {
            "cell_type": "code",
            "execution_count": 64,
            "metadata": {},
            "outputs": [
                {
                    "data": {
                        "image/png": "[encoded data removed]",
                        "text/plain": [
                            "<Figure size 640x480 with 1 Axes>"
                        ]
                    },
                    "metadata": {},
                    "output_type": "display_data"
                }
            ],
            "source": [
                "import numpy as np\n",
                "\n",
                "plt.hist(np.log10(total_data['price']+1), bins=25)\n",
                "plt.xlabel('logp1 Price')\n",
                "plt.show()"
            ]
        },
        {
            "cell_type": "code",
            "execution_count": 65,
            "metadata": {},
            "outputs": [
                {
                    "data": {
                        "text/plain": [
                            "['price', 'minimum_nights', 'number_of_reviews', 'reviews_per_month']"
                        ]
                    },
                    "execution_count": 65,
                    "metadata": {},
                    "output_type": "execute_result"
                }
            ],
            "source": [
                "numerical_features"
            ]
        },
        {
            "cell_type": "code",
            "execution_count": null,
            "metadata": {},
            "outputs": [],
            "source": []
        }
    ],
    "metadata": {
        "kernelspec": {
            "display_name": "Python 3.8.13 64-bit ('3.8.13')",
            "language": "python",
            "name": "python3"
        },
        "language_info": {
            "codemirror_mode": {
                "name": "ipython",
                "version": 3
            },
            "file_extension": ".py",
            "mimetype": "text/x-python",
            "name": "python",
            "nbconvert_exporter": "python",
            "pygments_lexer": "ipython3",
            "version": "3.10.12"
        },
        "orig_nbformat": 4,
        "vscode": {
            "interpreter": {
                "hash": "110cc1dee26208153f2972f08a2ad52b6a56238dc66d48e87fb757ef2996db56"
            }
        }
    },
    "nbformat": 4,
    "nbformat_minor": 2
}
